{
 "cells": [
  {
   "cell_type": "code",
   "execution_count": 1,
   "metadata": {},
   "outputs": [],
   "source": [
    "#import dependencies\n",
    "import pandas as pd\n",
    "from sqlalchemy import create_engine"
   ]
  },
  {
   "cell_type": "markdown",
   "metadata": {},
   "source": [
    "# Extract data from CSV"
   ]
  },
  {
   "cell_type": "code",
   "execution_count": 2,
   "metadata": {},
   "outputs": [],
   "source": [
    "#create path to the csv file \n",
    "csv_file = \"tmdb_5000_movies.csv\"\n",
    "\n",
    "#convert csv file to dataframe\n",
    "tmdb_movies_df = pd.read_csv(csv_file)"
   ]
  },
  {
   "cell_type": "code",
   "execution_count": 3,
   "metadata": {},
   "outputs": [],
   "source": [
    "#create dataframe with selected columns from above table\n",
    "tmdb_movies_df = tmdb_movies_df[['genres','homepage','original_language','overview','production_companies',\n",
    "                                 'runtime', 'title','vote_average', 'vote_count'\n",
    "                                 ]]"
   ]
  },
  {
   "cell_type": "code",
   "execution_count": 4,
   "metadata": {},
   "outputs": [],
   "source": [
    "#split and rename the genres and production_companies columns\n",
    "tmdb_movies_df['genre'] = tmdb_movies_df.genres.str.split(':', expand = True)[2]\n",
    "tmdb_movies_df['genre'] = tmdb_movies_df.genre.str.split('}', expand = True)[0]\n",
    "tmdb_movies_df['production_company'] = tmdb_movies_df.production_companies.str.split(':', expand = True)[1]\n",
    "tmdb_movies_df['production_company'] = tmdb_movies_df.production_company.str.split(',', expand = True)[0]"
   ]
  },
  {
   "cell_type": "code",
   "execution_count": 5,
   "metadata": {},
   "outputs": [
    {
     "data": {
      "text/html": [
       "<div>\n",
       "<style scoped>\n",
       "    .dataframe tbody tr th:only-of-type {\n",
       "        vertical-align: middle;\n",
       "    }\n",
       "\n",
       "    .dataframe tbody tr th {\n",
       "        vertical-align: top;\n",
       "    }\n",
       "\n",
       "    .dataframe thead th {\n",
       "        text-align: right;\n",
       "    }\n",
       "</style>\n",
       "<table border=\"1\" class=\"dataframe\">\n",
       "  <thead>\n",
       "    <tr style=\"text-align: right;\">\n",
       "      <th></th>\n",
       "      <th>genre</th>\n",
       "      <th>homepage</th>\n",
       "      <th>original_language</th>\n",
       "      <th>overview</th>\n",
       "      <th>production_company</th>\n",
       "      <th>runtime</th>\n",
       "      <th>title</th>\n",
       "      <th>vote_average</th>\n",
       "      <th>vote_count</th>\n",
       "    </tr>\n",
       "  </thead>\n",
       "  <tbody>\n",
       "    <tr>\n",
       "      <th>0</th>\n",
       "      <td>\"Action\"</td>\n",
       "      <td>http://www.avatarmovie.com/</td>\n",
       "      <td>en</td>\n",
       "      <td>In the 22nd century, a paraplegic Marine is di...</td>\n",
       "      <td>\"Ingenious Film Partners\"</td>\n",
       "      <td>162.0</td>\n",
       "      <td>Avatar</td>\n",
       "      <td>7.2</td>\n",
       "      <td>11800</td>\n",
       "    </tr>\n",
       "    <tr>\n",
       "      <th>1</th>\n",
       "      <td>\"Adventure\"</td>\n",
       "      <td>http://disney.go.com/disneypictures/pirates/</td>\n",
       "      <td>en</td>\n",
       "      <td>Captain Barbossa, long believed to be dead, ha...</td>\n",
       "      <td>\"Walt Disney Pictures\"</td>\n",
       "      <td>169.0</td>\n",
       "      <td>Pirates of the Caribbean: At World's End</td>\n",
       "      <td>6.9</td>\n",
       "      <td>4500</td>\n",
       "    </tr>\n",
       "    <tr>\n",
       "      <th>2</th>\n",
       "      <td>\"Action\"</td>\n",
       "      <td>http://www.sonypictures.com/movies/spectre/</td>\n",
       "      <td>en</td>\n",
       "      <td>A cryptic message from Bond’s past sends him o...</td>\n",
       "      <td>\"Columbia Pictures\"</td>\n",
       "      <td>148.0</td>\n",
       "      <td>Spectre</td>\n",
       "      <td>6.3</td>\n",
       "      <td>4466</td>\n",
       "    </tr>\n",
       "    <tr>\n",
       "      <th>3</th>\n",
       "      <td>\"Action\"</td>\n",
       "      <td>http://www.thedarkknightrises.com/</td>\n",
       "      <td>en</td>\n",
       "      <td>Following the death of District Attorney Harve...</td>\n",
       "      <td>\"Legendary Pictures\"</td>\n",
       "      <td>165.0</td>\n",
       "      <td>The Dark Knight Rises</td>\n",
       "      <td>7.6</td>\n",
       "      <td>9106</td>\n",
       "    </tr>\n",
       "    <tr>\n",
       "      <th>4</th>\n",
       "      <td>\"Action\"</td>\n",
       "      <td>http://movies.disney.com/john-carter</td>\n",
       "      <td>en</td>\n",
       "      <td>John Carter is a war-weary, former military ca...</td>\n",
       "      <td>\"Walt Disney Pictures\"</td>\n",
       "      <td>132.0</td>\n",
       "      <td>John Carter</td>\n",
       "      <td>6.1</td>\n",
       "      <td>2124</td>\n",
       "    </tr>\n",
       "  </tbody>\n",
       "</table>\n",
       "</div>"
      ],
      "text/plain": [
       "          genre                                      homepage  \\\n",
       "0      \"Action\"                   http://www.avatarmovie.com/   \n",
       "1   \"Adventure\"  http://disney.go.com/disneypictures/pirates/   \n",
       "2      \"Action\"   http://www.sonypictures.com/movies/spectre/   \n",
       "3      \"Action\"            http://www.thedarkknightrises.com/   \n",
       "4      \"Action\"          http://movies.disney.com/john-carter   \n",
       "\n",
       "  original_language                                           overview  \\\n",
       "0                en  In the 22nd century, a paraplegic Marine is di...   \n",
       "1                en  Captain Barbossa, long believed to be dead, ha...   \n",
       "2                en  A cryptic message from Bond’s past sends him o...   \n",
       "3                en  Following the death of District Attorney Harve...   \n",
       "4                en  John Carter is a war-weary, former military ca...   \n",
       "\n",
       "           production_company  runtime  \\\n",
       "0   \"Ingenious Film Partners\"    162.0   \n",
       "1      \"Walt Disney Pictures\"    169.0   \n",
       "2         \"Columbia Pictures\"    148.0   \n",
       "3        \"Legendary Pictures\"    165.0   \n",
       "4      \"Walt Disney Pictures\"    132.0   \n",
       "\n",
       "                                      title  vote_average  vote_count  \n",
       "0                                    Avatar           7.2       11800  \n",
       "1  Pirates of the Caribbean: At World's End           6.9        4500  \n",
       "2                                   Spectre           6.3        4466  \n",
       "3                     The Dark Knight Rises           7.6        9106  \n",
       "4                               John Carter           6.1        2124  "
      ]
     },
     "execution_count": 5,
     "metadata": {},
     "output_type": "execute_result"
    }
   ],
   "source": [
    "#chose and reorder the columns from the above dataframe\n",
    "tmdb_movies_df= tmdb_movies_df[['genre','homepage','original_language','overview','production_company',\n",
    "                                 'runtime', 'title','vote_average', 'vote_count'\n",
    "                                 ]]\n",
    "tmdb_movies_df.head()"
   ]
  },
  {
   "cell_type": "code",
   "execution_count": null,
   "metadata": {},
   "outputs": [],
   "source": []
  }
 ],
 "metadata": {
  "kernelspec": {
   "display_name": "Python 3",
   "language": "python",
   "name": "python3"
  },
  "language_info": {
   "codemirror_mode": {
    "name": "ipython",
    "version": 3
   },
   "file_extension": ".py",
   "mimetype": "text/x-python",
   "name": "python",
   "nbconvert_exporter": "python",
   "pygments_lexer": "ipython3",
   "version": "3.7.1"
  }
 },
 "nbformat": 4,
 "nbformat_minor": 2
}
